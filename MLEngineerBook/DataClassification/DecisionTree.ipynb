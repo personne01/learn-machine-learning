{
 "cells": [
  {
   "metadata": {},
   "cell_type": "markdown",
   "source": [
    "# ML WORKFLOW\n",
    "Sumber belajar sebuah machine learning adalah data. Data data tersebut mempunyai alur sampai dengan kita mendapatkan output yang diinginkan. Dari mulai Training Data kemudian dilatih oleh Machine Learning Algorithm, kemudian setelah belajar akan menghasilkan sebuah knowledge yang disebut ML Model, Kemudian model tersebut akan dilakukan Testing data apakah data tersebut sudah sesuai apa belum.\n",
    "\n",
    "# Decision Tree\n",
    "adalah salah satu metode dalam machine learning dan data mining yang digunakan untuk membuat prediksi atau keputusan berdasarkan data.\n",
    " Model ini berbentuk struktur pohon di mana setiap node merepresentasikan sebuah pertanyaan atau kondisi, dan setiap cabang (branch) merepresentasikan hasil dari kondisi tersebut, hingga akhirnya mencapai daun (leaf node) yang menyatakan keputusan atau prediksi."
   ],
   "id": "874806520f9647f4"
  },
  {
   "metadata": {},
   "cell_type": "markdown",
   "source": "# Berikut implementasi membuat Decision Tree",
   "id": "81fd19ef4ba936fa"
  },
  {
   "cell_type": "code",
   "execution_count": null,
   "id": "initial_id",
   "metadata": {
    "collapsed": true
   },
   "outputs": [],
   "source": "import pandas as pd\n"
  }
 ],
 "metadata": {
  "kernelspec": {
   "display_name": "Python 3",
   "language": "python",
   "name": "python3"
  },
  "language_info": {
   "codemirror_mode": {
    "name": "ipython",
    "version": 2
   },
   "file_extension": ".py",
   "mimetype": "text/x-python",
   "name": "python",
   "nbconvert_exporter": "python",
   "pygments_lexer": "ipython2",
   "version": "2.7.6"
  }
 },
 "nbformat": 4,
 "nbformat_minor": 5
}
