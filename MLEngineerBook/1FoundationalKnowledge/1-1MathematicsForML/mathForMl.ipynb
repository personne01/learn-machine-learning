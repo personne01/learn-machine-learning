{
 "cells": [
  {
   "metadata": {},
   "cell_type": "markdown",
   "source": [
    "# MATHEMATICS FOR ML\n",
    "\n",
    "Below is an conclusion of my ML Mathematic study.\n",
    "Following the ML Path [roadmap.sh] (https://roadmap.sh/r/ml-engineer-3dqvu).\n",
    "\n",
    "Read it until you understand the all of the math case for Machine learning.\n",
    "Don't skip mathematic so you will not confusing about your task from your boss in the future.\n",
    "Because before you start to code you must know what you will code."
   ],
   "id": "8a77807f92f26ee"
  },
  {
   "metadata": {
    "ExecuteTime": {
     "end_time": "2025-08-03T17:03:21.140902Z",
     "start_time": "2025-08-03T17:03:20.987397Z"
    }
   },
   "cell_type": "code",
   "source": [
    "import numpy as np\n",
    "age = [5,31,43,48,50,41,7,11,15,39,80,82,32,2,8,6,25,36,27,61,31]\n",
    "p = np.percentile(age,45)\n",
    "print(p)"
   ],
   "id": "fbc121e30a2defb3",
   "outputs": [
    {
     "name": "stdout",
     "output_type": "stream",
     "text": [
      "31.0\n"
     ]
    }
   ],
   "execution_count": 1
  }
 ],
 "metadata": {
  "kernelspec": {
   "display_name": "Python 3",
   "language": "python",
   "name": "python3"
  },
  "language_info": {
   "codemirror_mode": {
    "name": "ipython",
    "version": 2
   },
   "file_extension": ".py",
   "mimetype": "text/x-python",
   "name": "python",
   "nbconvert_exporter": "python",
   "pygments_lexer": "ipython2",
   "version": "2.7.6"
  }
 },
 "nbformat": 4,
 "nbformat_minor": 5
}
