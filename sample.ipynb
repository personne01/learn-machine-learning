{
 "cells": [
  {
   "metadata": {},
   "cell_type": "markdown",
   "source": [
    "# MATHEMATICS FOR ML\n",
    "\n",
    "Below is an conclusion of my ML Mathematic study.\n",
    "Following the ML Path [roadmap.sh] (https://roadmap.sh/r/ml-engineer-3dqvu).\n",
    "\n",
    "Read it until you understand the all of the math case for Machine learning.\n",
    "Don't skip mathematic so you will not confusing about your task from your boss in the future.\n",
    "Because before you start to code you must know what you will code."
   ],
   "id": "8a77807f92f26ee"
  },
  {
   "metadata": {
    "ExecuteTime": {
     "end_time": "2025-08-02T18:49:13.956344Z",
     "start_time": "2025-08-02T18:49:13.949484Z"
    }
   },
   "cell_type": "code",
   "source": "print(\"Hello World!\")",
   "id": "fbc121e30a2defb3",
   "outputs": [
    {
     "name": "stdout",
     "output_type": "stream",
     "text": [
      "Hello World!\n"
     ]
    }
   ],
   "execution_count": 4
  }
 ],
 "metadata": {
  "kernelspec": {
   "display_name": "Python 3",
   "language": "python",
   "name": "python3"
  },
  "language_info": {
   "codemirror_mode": {
    "name": "ipython",
    "version": 2
   },
   "file_extension": ".py",
   "mimetype": "text/x-python",
   "name": "python",
   "nbconvert_exporter": "python",
   "pygments_lexer": "ipython2",
   "version": "2.7.6"
  }
 },
 "nbformat": 4,
 "nbformat_minor": 5
}
